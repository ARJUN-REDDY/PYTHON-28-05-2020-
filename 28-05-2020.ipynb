{
 "cells": [
  {
   "cell_type": "code",
   "execution_count": 8,
   "metadata": {},
   "outputs": [
    {
     "name": "stdout",
     "output_type": "stream",
     "text": [
      "enter a stringhello\n",
      "<class 'str'> <class 'str'>\n"
     ]
    }
   ],
   "source": [
    "s1 = input(\"enter a string\")\n",
    "s2 = 'Good Afternoon'\n",
    "print(type(s1),type(s2))"
   ]
  },
  {
   "cell_type": "code",
   "execution_count": 9,
   "metadata": {},
   "outputs": [
    {
     "name": "stdout",
     "output_type": "stream",
     "text": [
      "helloGood Afternoon\n",
      "hellohellohello\n",
      "o\n",
      "o\n",
      "llo\n"
     ]
    }
   ],
   "source": [
    "print(s1 + s2)\n",
    "print(s1 * 3)\n",
    "print(s1[4])\n",
    "print(s1[-1])\n",
    "print(s1[2:])\n"
   ]
  },
  {
   "cell_type": "code",
   "execution_count": 10,
   "metadata": {},
   "outputs": [
    {
     "name": "stdout",
     "output_type": "stream",
     "text": [
      "hello\n",
      "hello\n"
     ]
    }
   ],
   "source": [
    "print(s1[0:5])\n",
    "print(s1[:])"
   ]
  },
  {
   "cell_type": "code",
   "execution_count": 11,
   "metadata": {},
   "outputs": [
    {
     "name": "stdout",
     "output_type": "stream",
     "text": [
      "hlo\n"
     ]
    }
   ],
   "source": [
    "print(s1[::2])"
   ]
  },
  {
   "cell_type": "code",
   "execution_count": 12,
   "metadata": {},
   "outputs": [
    {
     "name": "stdout",
     "output_type": "stream",
     "text": [
      "enter a string: madam\n",
      "the given string is palindrome\n"
     ]
    }
   ],
   "source": [
    "s3 = input(\"enter a string: \")\n",
    "if s3 == s3[::-1]:\n",
    "    print(\"the given string is palindrome\")\n",
    "else:\n",
    "    print(\"the given string is not a palindrome\")"
   ]
  },
  {
   "cell_type": "code",
   "execution_count": 13,
   "metadata": {},
   "outputs": [
    {
     "name": "stdout",
     "output_type": "stream",
     "text": [
      "enter a number121\n",
      "the given number is palindrome\n"
     ]
    }
   ],
   "source": [
    "n = int(input(\"enter a number\"))\n",
    "if str(n) == str(n)[::-1]:\n",
    "    print(\"the given number is palindrome\")\n",
    "else:\n",
    "    print(\"the given number is not a palindrome\")"
   ]
  },
  {
   "cell_type": "code",
   "execution_count": null,
   "metadata": {},
   "outputs": [],
   "source": []
  },
  {
   "cell_type": "code",
   "execution_count": 14,
   "metadata": {},
   "outputs": [
    {
     "name": "stdout",
     "output_type": "stream",
     "text": [
      "5\n",
      "o\n",
      "e\n",
      "c\n",
      "1\n"
     ]
    }
   ],
   "source": [
    "s = \"hello\"\n",
    "s1 = \"abc123\"\n",
    "print(len(s))\n",
    "print(max(s))\n",
    "print(min(s))\n",
    "print(max(s1))\n",
    "print(min(s1))"
   ]
  },
  {
   "cell_type": "code",
   "execution_count": 15,
   "metadata": {},
   "outputs": [
    {
     "data": {
      "text/plain": [
       "97"
      ]
     },
     "execution_count": 15,
     "metadata": {},
     "output_type": "execute_result"
    }
   ],
   "source": [
    "ord('a')"
   ]
  },
  {
   "cell_type": "code",
   "execution_count": 16,
   "metadata": {},
   "outputs": [
    {
     "data": {
      "text/plain": [
       "'a'"
      ]
     },
     "execution_count": 16,
     "metadata": {},
     "output_type": "execute_result"
    }
   ],
   "source": [
    "chr(97)"
   ]
  },
  {
   "cell_type": "code",
   "execution_count": 17,
   "metadata": {},
   "outputs": [
    {
     "name": "stdout",
     "output_type": "stream",
     "text": [
      "5\n",
      "Hello\n"
     ]
    }
   ],
   "source": [
    "s = \"hello\"\n",
    "print(len(s))\n",
    "s = s.capitalize()\n",
    "print(s)"
   ]
  },
  {
   "cell_type": "code",
   "execution_count": 18,
   "metadata": {},
   "outputs": [
    {
     "name": "stdout",
     "output_type": "stream",
     "text": [
      "True\n",
      "False\n",
      "True\n",
      "False\n",
      "False\n",
      "True\n",
      "False\n",
      "True\n",
      "True\n"
     ]
    }
   ],
   "source": [
    "s1 =\"hello\"\n",
    "s2 = \"abc123\"\n",
    "s3 = \"123\"\n",
    "print(s1.isalpha())\n",
    "print(s1.isdigit())\n",
    "print(s1.isalnum())\n",
    "print(s2.isalpha())\n",
    "print(s2.isdigit())\n",
    "print(s2.isalnum())\n",
    "print(s3.isalpha())\n",
    "print(s3.isdigit())\n",
    "print(s3.isalnum())"
   ]
  },
  {
   "cell_type": "code",
   "execution_count": 19,
   "metadata": {},
   "outputs": [
    {
     "name": "stdout",
     "output_type": "stream",
     "text": [
      "False\n",
      "True\n",
      "True\n",
      "False\n"
     ]
    }
   ],
   "source": [
    "s1 = \"python\"\n",
    "s2 = \"PYTHON\"\n",
    "print(s1.isupper())\n",
    "print(s2.isupper())\n",
    "print(s1.islower())\n",
    "print(s2.islower())"
   ]
  },
  {
   "cell_type": "code",
   "execution_count": 21,
   "metadata": {},
   "outputs": [
    {
     "name": "stdout",
     "output_type": "stream",
     "text": [
      "PYTHON\n",
      "python\n"
     ]
    }
   ],
   "source": [
    "print(s1.upper())\n",
    "print(s2.lower())"
   ]
  },
  {
   "cell_type": "code",
   "execution_count": 22,
   "metadata": {},
   "outputs": [
    {
     "name": "stdout",
     "output_type": "stream",
     "text": [
      "pYTHON\n"
     ]
    }
   ],
   "source": [
    "s1 = \"Python\"\n",
    "print(s1.swapcase())"
   ]
  },
  {
   "cell_type": "code",
   "execution_count": 23,
   "metadata": {},
   "outputs": [
    {
     "data": {
      "text/plain": [
       "3"
      ]
     },
     "execution_count": 23,
     "metadata": {},
     "output_type": "execute_result"
    }
   ],
   "source": [
    "s = \"abc abc abc\"\n",
    "s.count(\"abc\")"
   ]
  },
  {
   "cell_type": "code",
   "execution_count": 24,
   "metadata": {},
   "outputs": [
    {
     "data": {
      "text/plain": [
       "['abc', 'abc', 'abc']"
      ]
     },
     "execution_count": 24,
     "metadata": {},
     "output_type": "execute_result"
    }
   ],
   "source": [
    "s.split()"
   ]
  },
  {
   "cell_type": "code",
   "execution_count": 25,
   "metadata": {},
   "outputs": [
    {
     "name": "stdout",
     "output_type": "stream",
     "text": [
      "['a', 'b', 'c', 'd']\n"
     ]
    }
   ],
   "source": [
    "s1 = \"a,b,c,d\"\n",
    "print(s1.split(\",\"))"
   ]
  },
  {
   "cell_type": "code",
   "execution_count": 26,
   "metadata": {},
   "outputs": [
    {
     "name": "stdout",
     "output_type": "stream",
     "text": [
      "azc\n"
     ]
    }
   ],
   "source": [
    "s =\"abc\"\n",
    "s = s.replace('b','z')\n",
    "print(s)"
   ]
  },
  {
   "cell_type": "code",
   "execution_count": 28,
   "metadata": {},
   "outputs": [
    {
     "name": "stdout",
     "output_type": "stream",
     "text": [
      "enter position: 3\n",
      "enter a string:abcabc\n",
      "ababc\n"
     ]
    }
   ],
   "source": [
    "n = int(input(\"enter position: \"))\n",
    "s = input(\"enter a string:\")\n",
    "print(s.replace(s[n-1],\"\",1))"
   ]
  },
  {
   "cell_type": "code",
   "execution_count": 29,
   "metadata": {},
   "outputs": [
    {
     "name": "stdout",
     "output_type": "stream",
     "text": [
      "1 2 3 4 5 6 7 8 9 10 \n",
      "1 2 3 4 5 6 7 8 9 10 "
     ]
    }
   ],
   "source": [
    "n = 10\n",
    "for i in range(1,n+1):\n",
    "    print(i,end=\" \")\n",
    "    \n",
    "print()\n",
    "\n",
    "i = 1\n",
    "while i<=n:\n",
    "    print(i,end=\" \")\n",
    "    i += 1\n",
    "    "
   ]
  },
  {
   "cell_type": "code",
   "execution_count": 30,
   "metadata": {},
   "outputs": [
    {
     "name": "stdout",
     "output_type": "stream",
     "text": [
      "p\n",
      "y\n",
      "t\n",
      "h\n",
      "o\n",
      "n\n",
      "p\n",
      "y\n",
      "t\n",
      "h\n",
      "o\n",
      "n\n",
      "p\n",
      "y\n",
      "t\n",
      "h\n",
      "o\n",
      "n\n"
     ]
    }
   ],
   "source": [
    "s = \"python\"\n",
    "for i in s:\n",
    "    print(i)\n",
    "    \n",
    "i=0\n",
    "while i < len(s):\n",
    "    print(s[i])\n",
    "    i += 1\n",
    "    \n",
    "for j in range(0,len(s)):\n",
    "    print(s[j])"
   ]
  },
  {
   "cell_type": "code",
   "execution_count": null,
   "metadata": {},
   "outputs": [],
   "source": []
  }
 ],
 "metadata": {
  "kernelspec": {
   "display_name": "Python 3",
   "language": "python",
   "name": "python3"
  },
  "language_info": {
   "codemirror_mode": {
    "name": "ipython",
    "version": 3
   },
   "file_extension": ".py",
   "mimetype": "text/x-python",
   "name": "python",
   "nbconvert_exporter": "python",
   "pygments_lexer": "ipython3",
   "version": "3.7.6"
  }
 },
 "nbformat": 4,
 "nbformat_minor": 4
}
